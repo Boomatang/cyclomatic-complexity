{
 "cells": [
  {
   "cell_type": "markdown",
   "source": [
    "# Get Resources\n",
    "This project requires git repos to function.\n"
   ],
   "metadata": {
    "collapsed": false
   },
   "id": "2293bdb1cbf316c9"
  },
  {
   "cell_type": "code",
   "outputs": [],
   "source": [
    "from pathlib import Path\n",
    "\n",
    "location = Path(\"/tmp/cyclomatic_complexity\")\n",
    "repos = [\n",
    "    \"git@github.com:Kuadrant/limitador-operator.git\",\n",
    "    \"git@github.com:Kuadrant/kuadrant-operator.git\"\n",
    "]\n",
    "\n",
    "location.mkdir(parents=True, exist_ok=True)"
   ],
   "metadata": {
    "collapsed": false,
    "is_executing": true
   },
   "id": "c1e7863caf638344"
  },
  {
   "cell_type": "code",
   "outputs": [],
   "source": [],
   "metadata": {
    "collapsed": false
   },
   "id": "40fa157f396295c0"
  }
 ],
 "metadata": {
  "kernelspec": {
   "display_name": "Python 3",
   "language": "python",
   "name": "python3"
  },
  "language_info": {
   "codemirror_mode": {
    "name": "ipython",
    "version": 2
   },
   "file_extension": ".py",
   "mimetype": "text/x-python",
   "name": "python",
   "nbconvert_exporter": "python",
   "pygments_lexer": "ipython2",
   "version": "2.7.6"
  }
 },
 "nbformat": 4,
 "nbformat_minor": 5
}
