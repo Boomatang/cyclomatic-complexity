{
 "cells": [
  {
   "cell_type": "markdown",
   "id": "e25dddbd2454216c",
   "metadata": {
    "collapsed": false,
    "jupyter": {
     "outputs_hidden": false
    }
   },
   "source": [
    "# Languages\n",
    "This notebook formats data based around the languages used within the projects. \n"
   ]
  },
  {
   "cell_type": "code",
   "id": "9551b64c914f0173",
   "metadata": {
    "collapsed": false,
    "jupyter": {
     "outputs_hidden": false
    }
   },
   "source": [
    "from pathlib import Path\n",
    "import json\n",
    "\n",
    "# data_file_name = \"20240125-1037.json\" #  Data set used in report\n",
    "data_file_name = \"20240411-1655.json\"\n",
    "location = Path(\"../data\")\n",
    "\n",
    "if not location.is_dir():\n",
    "    print(\"Directory does not exist, do not continue\")\n",
    "    exit(1)\n",
    "\n",
    "data_file = Path(location, data_file_name)\n",
    "if not data_file.is_file():\n",
    "    print(\"File does not exist, do not continue\")\n",
    "    exit(1)\n",
    "    \n",
    "with open(data_file) as df:\n",
    "    data = json.load(df)"
   ],
   "outputs": [],
   "execution_count": null
  },
  {
   "cell_type": "markdown",
   "id": "c68327efca876a77",
   "metadata": {
    "collapsed": false,
    "jupyter": {
     "outputs_hidden": false
    }
   },
   "source": [
    "# List languages\n",
    "The list is all the languages used across all projects over the lifetime of the projects with duplicates removed. The `scc` tool tries to detect auto generated code and will list the language as generated.\n"
   ]
  },
  {
   "cell_type": "code",
   "id": "1db1e47d99d69385",
   "metadata": {
    "collapsed": false,
    "jupyter": {
     "outputs_hidden": false
    }
   },
   "source": [
    "from cyclomatic_complexity import list_to_columns\n",
    "lang = set()\n",
    "for project in data:\n",
    "    for entry in data[project]:\n",
    "        for scc in entry['scc']:\n",
    "            lang.add(scc['Name'])\n",
    "\n",
    "print(f\"Languages: {len(lang)}\")\n",
    "print(list_to_columns(sorted(lang), cols=5))"
   ],
   "outputs": [],
   "execution_count": null
  },
  {
   "cell_type": "markdown",
   "id": "7e4cc97895489e0a",
   "metadata": {
    "collapsed": false,
    "jupyter": {
     "outputs_hidden": false
    }
   },
   "source": [
    "# Mapping dates across projects\n"
   ]
  },
  {
   "cell_type": "code",
   "id": "9f0a1edfe5f5e6ce",
   "metadata": {
    "collapsed": false,
    "jupyter": {
     "outputs_hidden": false
    }
   },
   "source": [
    "largest = {\"project\": '', 'merges': 0}\n",
    "for project in data:\n",
    "    if len(data[project]) > largest['merges']:\n",
    "        largest['project'] = project\n",
    "        largest['merges'] = len(data[project])\n",
    "\n",
    "print(largest)"
   ],
   "outputs": [],
   "execution_count": null
  },
  {
   "cell_type": "code",
   "id": "59299b07ea36d520",
   "metadata": {
    "collapsed": false,
    "jupyter": {
     "outputs_hidden": false
    }
   },
   "source": [
    "from tabulate import tabulate\n",
    "from pprint import pprint\n",
    "from datetime import datetime\n",
    "timestamp_format = \"%a %b %d %H:%M:%S %Y %z\"\n",
    "# for merge in data[largest['project']]:\n",
    "#     t = merge['timestamp']\n",
    "#     d = datetime.strptime(t, timestamp_format)\n",
    "#     print(d)\n",
    "\n",
    "history_dates = []\n",
    "for project in data:\n",
    "    if not len(data[project]):\n",
    "        continue\n",
    "    project_history = {\"project\": project, \"first_merge\": datetime.utcnow(), \"last_merge\": datetime(2000, 1, 1)}\n",
    "    for merge in data[project]:\n",
    "        timestamp = datetime.strptime(merge['timestamp'], timestamp_format)\n",
    "        \n",
    "        if timestamp.timestamp() < project_history['first_merge'].timestamp():\n",
    "            project_history['first_merge'] = timestamp\n",
    "        \n",
    "        if timestamp.timestamp() > project_history['last_merge'].timestamp():\n",
    "            project_history['last_merge'] = timestamp\n",
    "    \n",
    "    history_dates.append(project_history)\n",
    "\n",
    "history_dates = sorted(history_dates, key=lambda x: x['first_merge'])\n",
    "headers = {\"project\": 'Project', \"first_merge\": 'First Merge', \"last_merge\": 'Last Merge'}\n",
    "table = tabulate(history_dates, headers)\n",
    "\n",
    "print(table)"
   ],
   "outputs": [],
   "execution_count": null
  },
  {
   "cell_type": "code",
   "id": "92a62cd0b2b8cc98",
   "metadata": {
    "collapsed": false,
    "jupyter": {
     "outputs_hidden": false
    }
   },
   "source": [
    "testing = False\n",
    "\n",
    "def xx(dataset):\n",
    "    youngest = {'project': None, 'timestamp': datetime(2000, 1, 1)}\n",
    "    project_youngest = {}\n",
    "    for project in dataset:\n",
    "        if project not in project_youngest:\n",
    "            project_youngest.setdefault(project, {'commit': None, 'timestamp': datetime(2000, 1, 1)})\n",
    "        for entry in dataset[project]:\n",
    "            if entry['timestamp'].timestamp() > youngest['timestamp'].timestamp():\n",
    "                youngest['project'] = project\n",
    "                youngest['timestamp'] = entry['timestamp']\n",
    "            if entry['timestamp'].timestamp() > project_youngest[project]['timestamp'].timestamp():\n",
    "                project_youngest[project] = entry\n",
    "    if youngest['project'] is not None:\n",
    "        dataset[youngest['project']].remove(project_youngest[youngest['project']])\n",
    "    return youngest, project_youngest, dataset\n",
    "    \n",
    "def get_row_set():\n",
    "    if testing:\n",
    "        sample = {\n",
    "            'P1': [\n",
    "                {\"commit\": 'A', 'timestamp': datetime(2000, 1, 9)},\n",
    "                {\"commit\": 'B', 'timestamp': datetime(2000, 1, 5)},\n",
    "                {\"commit\": 'C', 'timestamp': datetime(2000, 1, 4)},\n",
    "            ],\n",
    "            'P2': [\n",
    "                {\"commit\": '1', 'timestamp': datetime(2000, 1, 8)},\n",
    "                {\"commit\": '2', 'timestamp': datetime(2000, 1, 7)},\n",
    "                {\"commit\": '3', 'timestamp': datetime(2000, 1, 6)},\n",
    "            ]\n",
    "        }\n",
    "    else:\n",
    "        sample = {}\n",
    "        for project in data:\n",
    "            if not len(data[project]):\n",
    "                continue\n",
    "            if project not in sample:\n",
    "                sample.setdefault(project, [])\n",
    "            for entry in data[project]:\n",
    "                sample[project].append({'commit': entry['commit'], 'timestamp': datetime.strptime(entry['timestamp'], timestamp_format)})\n",
    "\n",
    "    for project in sample:\n",
    "        sample[project] = sorted(sample[project], key=lambda x: x['timestamp'])\n",
    "\n",
    "    counter = 1\n",
    "    rows = []\n",
    "\n",
    "    while counter:\n",
    "        counter = 0\n",
    "        for project in sample:\n",
    "            if len(sample[project]) > counter:\n",
    "                counter = len(sample[project])\n",
    "\n",
    "        youngest, project_youngest, sample = xx(sample)\n",
    "        \n",
    "        if youngest['project'] is None:\n",
    "            continue\n",
    "\n",
    "        row = {'timestamp': youngest['timestamp']}\n",
    "        for project in project_youngest:\n",
    "            row[project] = project_youngest[project]['commit']\n",
    "        rows.append(row)\n",
    "    return rows"
   ],
   "outputs": [],
   "execution_count": null
  },
  {
   "cell_type": "markdown",
   "id": "3bf729f944933c31",
   "metadata": {
    "collapsed": false,
    "jupyter": {
     "outputs_hidden": false
    }
   },
   "source": [
    "# Lines of Code\n"
   ]
  },
  {
   "cell_type": "code",
   "id": "f12a2598ff989d77",
   "metadata": {
    "collapsed": false,
    "jupyter": {
     "outputs_hidden": false
    }
   },
   "source": [
    "import matplotlib.pyplot as plt\n",
    "\n",
    "def scc_total(scc):\n",
    "    total = 0\n",
    "    for entry in scc:\n",
    "        total += entry['Lines']\n",
    "    return total\n",
    "\n",
    "loc_rows = get_row_set()\n",
    "\n",
    "for row in loc_rows:\n",
    "    for key in row:\n",
    "        if key == 'timestamp' or row[key] is None:\n",
    "            continue\n",
    "\n",
    "        commit = filter(lambda x: x['commit'] == row[key], data[key])\n",
    "        commit = next(commit, None)\n",
    "        if commit:\n",
    "            row[key] = scc_total(commit['scc'])\n",
    "            \n",
    "timestamps = []\n",
    "projects = {}\n",
    "for row in loc_rows:\n",
    "    for key in row:\n",
    "        if key == 'timestamp':\n",
    "            timestamps.append(row[key])\n",
    "            continue\n",
    "        if key not in projects:\n",
    "            projects.setdefault(key, [])\n",
    "        value = row[key]\n",
    "        if value is None:\n",
    "            value = 0\n",
    "        projects[key].append(value)\n",
    "        \n",
    "fig, ax = plt.subplots(figsize=(40, 15))\n",
    "\n",
    "ax.stackplot(timestamps, projects.values(),\n",
    "             labels= projects.keys(), alpha=0.8)\n",
    "ax.legend(loc='upper left', reverse=True)\n",
    "ax.set_title('LoC for Org')\n",
    "ax.set_xlabel('Year')\n",
    "ax.set_ylabel('Lines Of Code')\n",
    "\n",
    "plt.show()"
   ],
   "outputs": [],
   "execution_count": null
  },
  {
   "cell_type": "code",
   "id": "f2063f7378d76d71",
   "metadata": {
    "collapsed": false,
    "jupyter": {
     "outputs_hidden": false
    },
    "ExecuteTime": {
     "end_time": "2024-05-13T17:32:48.032017Z",
     "start_time": "2024-05-13T17:32:47.006053Z"
    }
   },
   "source": [
    "import matplotlib.pyplot as plt\n",
    "\n",
    "def scc_was_scanned(source, filters):\n",
    "    not_scanned = 0\n",
    "    scanned = 0\n",
    "    \n",
    "    for s in source:\n",
    "        if s['Name'].lower() in filters:\n",
    "            scanned += s['Lines']\n",
    "        else:\n",
    "            not_scanned += s['Lines']\n",
    "    \n",
    "    return scanned, not_scanned\n",
    "\n",
    "cc_lang = ['rust', 'go', 'python', 'javascript', 'ruby']\n",
    "loc_cc = get_row_set()\n",
    "\n",
    "results = []\n",
    "for row in loc_cc:\n",
    "    result_row = {'timestamp': '', 'scanned': 0, 'not_scanned': 0}\n",
    "    for key in row:\n",
    "        if key == 'timestamp':\n",
    "            result_row['timestamp'] = row[key]\n",
    "            continue\n",
    "        if row[key] is None:\n",
    "            continue\n",
    "\n",
    "        commit = filter(lambda x: x['commit'] == row[key], data[key])\n",
    "        commit = next(commit, None)\n",
    "        if commit:\n",
    "            scanned, not_scanned = scc_was_scanned(commit['scc'], cc_lang)\n",
    "            result_row['scanned'] += scanned\n",
    "            result_row['not_scanned'] += not_scanned\n",
    "    results.append(result_row)\n",
    "\n",
    "timestamps = []\n",
    "status = {}\n",
    "for row in results:\n",
    "    for key in row:\n",
    "        if key == 'timestamp':\n",
    "            timestamps.append(row[key])\n",
    "            continue\n",
    "        if key not in status:\n",
    "            status.setdefault(key, [])\n",
    "        value = row[key]\n",
    "        if value is None:\n",
    "            value = 0\n",
    "        status[key].append(value)\n",
    "\n",
    "fig, ax = plt.subplots(figsize=(40, 15))\n",
    "\n",
    "ax.stackplot(timestamps, status.values(),\n",
    "             labels= status.keys(), alpha=0.8)\n",
    "ax.legend(loc='upper left', reverse=True)\n",
    "ax.set_title('Scanned lines of code Vs Non Scanned for Cyclomatic Complexity')\n",
    "ax.set_xlabel('Year')\n",
    "ax.set_ylabel('Lines Of Code')\n",
    "\n",
    "plt.show()\n",
    "\n"
   ],
   "outputs": [
    {
     "ename": "NameError",
     "evalue": "name 'get_row_set' is not defined",
     "output_type": "error",
     "traceback": [
      "\u001B[0;31m---------------------------------------------------------------------------\u001B[0m",
      "\u001B[0;31mNameError\u001B[0m                                 Traceback (most recent call last)",
      "Cell \u001B[0;32mIn[1], line 16\u001B[0m\n\u001B[1;32m     13\u001B[0m     \u001B[38;5;28;01mreturn\u001B[39;00m scanned, not_scanned\n\u001B[1;32m     15\u001B[0m cc_lang \u001B[38;5;241m=\u001B[39m [\u001B[38;5;124m'\u001B[39m\u001B[38;5;124mrust\u001B[39m\u001B[38;5;124m'\u001B[39m, \u001B[38;5;124m'\u001B[39m\u001B[38;5;124mgo\u001B[39m\u001B[38;5;124m'\u001B[39m, \u001B[38;5;124m'\u001B[39m\u001B[38;5;124mpython\u001B[39m\u001B[38;5;124m'\u001B[39m, \u001B[38;5;124m'\u001B[39m\u001B[38;5;124mjavascript\u001B[39m\u001B[38;5;124m'\u001B[39m, \u001B[38;5;124m'\u001B[39m\u001B[38;5;124mruby\u001B[39m\u001B[38;5;124m'\u001B[39m]\n\u001B[0;32m---> 16\u001B[0m loc_cc \u001B[38;5;241m=\u001B[39m \u001B[43mget_row_set\u001B[49m()\n\u001B[1;32m     18\u001B[0m results \u001B[38;5;241m=\u001B[39m []\n\u001B[1;32m     19\u001B[0m \u001B[38;5;28;01mfor\u001B[39;00m row \u001B[38;5;129;01min\u001B[39;00m loc_cc:\n",
      "\u001B[0;31mNameError\u001B[0m: name 'get_row_set' is not defined"
     ]
    }
   ],
   "execution_count": 1
  },
  {
   "metadata": {},
   "cell_type": "code",
   "outputs": [],
   "execution_count": null,
   "source": "",
   "id": "bc8140ea533b0df3"
  }
 ],
 "metadata": {
  "kernelspec": {
   "display_name": "Python 3 (ipykernel)",
   "language": "python",
   "name": "python3"
  },
  "language_info": {
   "codemirror_mode": {
    "name": "ipython",
    "version": 3
   },
   "file_extension": ".py",
   "mimetype": "text/x-python",
   "name": "python",
   "nbconvert_exporter": "python",
   "pygments_lexer": "ipython3",
   "version": "3.11.8"
  }
 },
 "nbformat": 4,
 "nbformat_minor": 5
}
