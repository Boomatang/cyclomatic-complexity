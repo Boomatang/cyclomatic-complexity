{
 "cells": [
  {
   "cell_type": "markdown",
   "source": [
    "# Tools Required\n",
    "Here are all the external tools that is required for using these notebooks.\n",
    "If any of the following code blocks error then that tool is missing."
   ],
   "metadata": {
    "collapsed": false
   },
   "id": "940642e8469bd4e3"
  },
  {
   "cell_type": "code",
   "source": [
    "!git --version"
   ],
   "metadata": {
    "collapsed": false
   },
   "id": "b8da65df1ee88251",
   "outputs": [],
   "execution_count": null
  },
  {
   "cell_type": "code",
   "source": [
    "!scc --version"
   ],
   "metadata": {
    "collapsed": false
   },
   "id": "f23f154b4c1c24bf",
   "outputs": [],
   "execution_count": null
  },
  {
   "cell_type": "code",
   "source": [
    "!which gocyclo"
   ],
   "metadata": {
    "collapsed": false
   },
   "id": "ff0de3f5c8b42776",
   "outputs": [],
   "execution_count": null
  },
  {
   "cell_type": "code",
   "source": [
    "!rust-code-analysis-cli --version"
   ],
   "metadata": {
    "collapsed": false
   },
   "id": "fd4dc452a110687e",
   "outputs": [],
   "execution_count": null
  },
  {
   "cell_type": "code",
   "source": [
    "!rubocop --version"
   ],
   "metadata": {
    "collapsed": false
   },
   "id": "32cc3484a1e7f232",
   "outputs": [],
   "execution_count": null
  },
  {
   "cell_type": "code",
   "source": [],
   "metadata": {
    "collapsed": false
   },
   "id": "e8de274410d68e9f",
   "outputs": [],
   "execution_count": null
  }
 ],
 "metadata": {
  "kernelspec": {
   "display_name": "Python 3",
   "language": "python",
   "name": "python3"
  },
  "language_info": {
   "codemirror_mode": {
    "name": "ipython",
    "version": 2
   },
   "file_extension": ".py",
   "mimetype": "text/x-python",
   "name": "python",
   "nbconvert_exporter": "python",
   "pygments_lexer": "ipython2",
   "version": "2.7.6"
  }
 },
 "nbformat": 4,
 "nbformat_minor": 5
}
