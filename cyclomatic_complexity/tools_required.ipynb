{
 "cells": [
  {
   "cell_type": "markdown",
   "source": [
    "# Tools Required\n",
    "Here are all the external tools that is required for using these notebooks.\n",
    "If any of the following code blocks error then that tool is missing."
   ],
   "metadata": {
    "collapsed": false
   },
   "id": "940642e8469bd4e3"
  },
  {
   "cell_type": "code",
   "outputs": [
    {
     "name": "stdout",
     "output_type": "stream",
     "text": [
      "git version 2.43.0\r\n"
     ]
    }
   ],
   "source": [
    "!git --version"
   ],
   "metadata": {
    "collapsed": false,
    "ExecuteTime": {
     "end_time": "2024-01-12T15:40:58.235339377Z",
     "start_time": "2024-01-12T15:40:58.132551477Z"
    }
   },
   "id": "b8da65df1ee88251",
   "execution_count": 1
  },
  {
   "cell_type": "code",
   "outputs": [
    {
     "name": "stdout",
     "output_type": "stream",
     "text": [
      "scc version 3.1.0\r\n"
     ]
    }
   ],
   "source": [
    "!scc --version"
   ],
   "metadata": {
    "collapsed": false,
    "ExecuteTime": {
     "end_time": "2024-01-12T15:40:58.453185272Z",
     "start_time": "2024-01-12T15:40:58.239986299Z"
    }
   },
   "id": "f23f154b4c1c24bf",
   "execution_count": 2
  },
  {
   "cell_type": "code",
   "outputs": [
    {
     "name": "stdout",
     "output_type": "stream",
     "text": [
      "/home/jimfitz/go/bin/gocyclo\r\n"
     ]
    }
   ],
   "source": [
    "!which gocyclo"
   ],
   "metadata": {
    "collapsed": false,
    "ExecuteTime": {
     "end_time": "2024-01-12T15:40:58.639256752Z",
     "start_time": "2024-01-12T15:40:58.483404606Z"
    }
   },
   "id": "ff0de3f5c8b42776",
   "execution_count": 3
  },
  {
   "cell_type": "code",
   "outputs": [
    {
     "name": "stdout",
     "output_type": "stream",
     "text": [
      "\u001B[0mrust-code-analysis-cli 0.0.25\r\n",
      "\u001B[0m"
     ]
    }
   ],
   "source": [
    "!rust-code-analysis-cli --version"
   ],
   "metadata": {
    "collapsed": false,
    "ExecuteTime": {
     "end_time": "2024-01-12T19:02:03.971707797Z",
     "start_time": "2024-01-12T19:02:03.836800134Z"
    }
   },
   "id": "fd4dc452a110687e",
   "execution_count": 4
  },
  {
   "cell_type": "code",
   "outputs": [
    {
     "name": "stdout",
     "output_type": "stream",
     "text": [
      "1.59.0\r\n"
     ]
    }
   ],
   "source": [
    "!rubocop --version"
   ],
   "metadata": {
    "collapsed": false,
    "ExecuteTime": {
     "end_time": "2024-01-13T15:38:43.436654720Z",
     "start_time": "2024-01-13T15:38:42.450499166Z"
    }
   },
   "id": "32cc3484a1e7f232",
   "execution_count": 5
  },
  {
   "cell_type": "code",
   "outputs": [],
   "source": [],
   "metadata": {
    "collapsed": false
   },
   "id": "e8de274410d68e9f"
  }
 ],
 "metadata": {
  "kernelspec": {
   "display_name": "Python 3",
   "language": "python",
   "name": "python3"
  },
  "language_info": {
   "codemirror_mode": {
    "name": "ipython",
    "version": 2
   },
   "file_extension": ".py",
   "mimetype": "text/x-python",
   "name": "python",
   "nbconvert_exporter": "python",
   "pygments_lexer": "ipython2",
   "version": "2.7.6"
  }
 },
 "nbformat": 4,
 "nbformat_minor": 5
}
